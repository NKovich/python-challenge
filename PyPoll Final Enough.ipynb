{
 "cells": [
  {
   "cell_type": "code",
   "execution_count": 1,
   "metadata": {},
   "outputs": [],
   "source": [
    "import os\n",
    "import csv"
   ]
  },
  {
   "cell_type": "code",
   "execution_count": 2,
   "metadata": {},
   "outputs": [
    {
     "name": "stdout",
     "output_type": "stream",
     "text": [
      "Election Results\n",
      "Total Votes: 3521001\n",
      "Khan: 63.000010508375312218231\n",
      "Correy: 19.999994319797125704200\n",
      "Li: 13.999996023857989492940\n",
      "O'Tooley: 2.999999147969569105630\n",
      "Winner: Khan\n"
     ]
    }
   ],
   "source": [
    "votes = 0\n",
    "candidates = {}               \n",
    "                              \n",
    "Pollpath = os.path.join('..', 'Resources', 'election_data.csv')\n",
    "\n",
    "with open(Pollpath, newline=\"\") as csvfile:\n",
    "    csvreader = csv.reader (csvfile, delimiter=\",\")\n",
    "    next (csvreader)\n",
    "  \n",
    "    for row in csvreader:       \n",
    "        votes += 1\n",
    "        if row[2] in candidates:  \n",
    "          candidates[row[2]] += 1      \n",
    "        else:                     \n",
    "          candidates[row[2]] = 1  \n",
    "        \n",
    "#https://www.geeksforgeeks.org/iterate-over-a-dictionary-in-python/        \n",
    "# Iterating over values for state, capital in statesAndCapitals.items():     print(state, \":\", capital) \n",
    "#percent = count/total vote * 100        \n",
    "print (\"Election Results\")\n",
    "print (\"Total Votes: \" + str(votes))\n",
    "for key, value in candidates.items():\n",
    "    print(key + \": \" + str(value/votes * 100) + str(value))\n",
    "print(\"Winner: \" + max(candidates, key=candidates.get))"
   ]
  },
  {
   "cell_type": "code",
   "execution_count": 3,
   "metadata": {},
   "outputs": [
    {
     "ename": "SyntaxError",
     "evalue": "invalid syntax (<ipython-input-3-ac5e47decf3b>, line 13)",
     "output_type": "error",
     "traceback": [
      "\u001b[1;36m  File \u001b[1;32m\"<ipython-input-3-ac5e47decf3b>\"\u001b[1;36m, line \u001b[1;32m13\u001b[0m\n\u001b[1;33m    datafile.write(\"Winner: \" + max(candidates, key=candidates.get))\u001b[0m\n\u001b[1;37m           ^\u001b[0m\n\u001b[1;31mSyntaxError\u001b[0m\u001b[1;31m:\u001b[0m invalid syntax\n"
     ]
    }
   ],
   "source": [
    "#In addition, your final script should both print the analysis to the terminal and export a text file with the results.\n",
    "# Set variable for output file\n",
    "output_file = os.path.join(\"solved_poll.csv\")\n",
    "\n",
    "#  Open the output file\n",
    "with open(output_file, \"w\", newline=\"\") as datafile:\n",
    "    writer = csv.writer(datafile)    \n",
    "    \n",
    "\n",
    "datafile.write(\"Election Results\")\n",
    "datafile.write(\"Total Vote: \" + str(count))\n",
    "datafile.write((key + \": \" + str(value/votes * 100) + str(value))\n",
    "datafile.write(\"Winner: \" + max(candidates, key=candidates.get))\n",
    "               \n",
    "datafile.close()      \n",
    "    \n",
    "    "
   ]
  }
 ],
 "metadata": {
  "kernelspec": {
   "display_name": "Python 3",
   "language": "python",
   "name": "python3"
  },
  "language_info": {
   "codemirror_mode": {
    "name": "ipython",
    "version": 3
   },
   "file_extension": ".py",
   "mimetype": "text/x-python",
   "name": "python",
   "nbconvert_exporter": "python",
   "pygments_lexer": "ipython3",
   "version": "3.7.3"
  }
 },
 "nbformat": 4,
 "nbformat_minor": 2
}
