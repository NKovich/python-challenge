{
 "cells": [
  {
   "cell_type": "code",
   "execution_count": 1,
   "metadata": {},
   "outputs": [
    {
     "ename": "SyntaxError",
     "evalue": "invalid syntax (<ipython-input-1-0622a2aefd8a>, line 38)",
     "output_type": "error",
     "traceback": [
      "\u001b[1;36m  File \u001b[1;32m\"<ipython-input-1-0622a2aefd8a>\"\u001b[1;36m, line \u001b[1;32m38\u001b[0m\n\u001b[1;33m    average = sum(changes) / len(changes)\u001b[0m\n\u001b[1;37m          ^\u001b[0m\n\u001b[1;31mSyntaxError\u001b[0m\u001b[1;31m:\u001b[0m invalid syntax\n"
     ]
    }
   ],
   "source": [
    "# First we'll import the os module\n",
    "# This will allow us to create file paths across operating systems\n",
    "import os\n",
    "\n",
    "# Module for reading CSV files\n",
    "import csv\n",
    "\n",
    "csvpath = os.path.join('..', 'Resources', 'budget_data.csv')\n",
    "\n",
    "dates = []\n",
    "profits = []\n",
    "changes = []\n",
    "\n",
    "months = 0\n",
    "\n",
    "\n",
    "with open(csvpath, newline='') as csvfile:\n",
    "\n",
    "    # CSV reader specifies delimiter and variable that holds contents\n",
    "    csvreader = csv.reader(csvfile, delimiter=',')\n",
    "  \n",
    "    # Read the header row first (skip this step if there is now header)\n",
    "    csv_header = next(csvreader)\n",
    "   \n",
    "\n",
    "    # Read each row of data after the header\n",
    "    for row in csvreader:\n",
    "        #The total number of months included in the dataset\n",
    "        months += 1\n",
    "        #The net total amount of \"Profit/Losses\" over the entire period \n",
    "        profits.append(int(row[1]))\n",
    "        total_profits = sum(profits)\n",
    "       \n",
    "        #The average of the CHANGES in \"Profit/Losses\" over the entire period\n",
    "        #dont forget to round \n",
    "          #change b/t each month, sum of changes/total len(changes)\n",
    "        changes.append(int(profits+1)-int(profits)\n",
    "        average = sum(changes) / len(changes)  \n",
    "         \n",
    "                \n",
    "        #The greatest increase in profits (date and amount) over the entire period\n",
    "            #great_ic_changes = max()\n",
    "        great_increase = max(changes)\n",
    "        #The greatest decrease in losses (date and amount) over the entire period\n",
    "            #great_ic_changes = min()   \n",
    "        great_decrease = min(changes)"
   ]
  },
  {
   "cell_type": "code",
   "execution_count": null,
   "metadata": {},
   "outputs": [],
   "source": [
    "print(\"Financial Analysis\")\n",
    "print(\"Total Months: \" + str(months))\n",
    "print(\"Total Net: $\" + str(total_profits))\n",
    "print(\"Average Change: \" + str(average)\n",
    "print(\"Greatest Increase in Profits: \" + str(great_increase))\n",
    "print(\"Greatest Decrease in Profits: \" + str(great_decrease))"
   ]
  },
  {
   "cell_type": "code",
   "execution_count": null,
   "metadata": {},
   "outputs": [],
   "source": [
    "#In addition, your final script should both print the analysis to the terminal and export a text file with the results.\n",
    "# Set variable for output file\n",
    "output_file = os.path.join(\"solved_bank.csv\")\n",
    "\n",
    "#  Open the output file\n",
    "with open(output_file, \"w\", newline=\"\") as datafile:\n",
    "    writer = csv.writer(datafile)  \n",
    "    \n",
    "\n",
    "datafile.write(\"Financial Analysis\")\n",
    "datafile.write(\"Total Months: \" + str(months)) \n",
    "datafile.write(\"Total Net: $\" + str(total_profits))\n",
    "datafile.write(\"Average Change: \" + str(average)\n",
    "datafile.write(\"Greatest Increase in Profits: \" + str(great_increase))\n",
    "datafile.write(\"Greatest Decrease in Profits: \" + str(great_decrease))\n",
    "               \n",
    "datafile.close()    \n"
   ]
  },
  {
   "cell_type": "code",
   "execution_count": null,
   "metadata": {},
   "outputs": [],
   "source": []
  }
 ],
 "metadata": {
  "kernelspec": {
   "display_name": "Python 3",
   "language": "python",
   "name": "python3"
  },
  "language_info": {
   "codemirror_mode": {
    "name": "ipython",
    "version": 3
   },
   "file_extension": ".py",
   "mimetype": "text/x-python",
   "name": "python",
   "nbconvert_exporter": "python",
   "pygments_lexer": "ipython3",
   "version": "3.7.3"
  }
 },
 "nbformat": 4,
 "nbformat_minor": 2
}
